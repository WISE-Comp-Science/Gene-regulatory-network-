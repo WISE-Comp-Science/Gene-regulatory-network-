{
 "cells": [
  {
   "cell_type": "code",
   "execution_count": 5,
   "metadata": {
    "collapsed": true
   },
   "outputs": [],
   "source": [
    "%matplotlib inline \n",
    "import numpy as np\n",
    "import matplotlib.pyplot as plt\n",
    "from scipy.integrate import ode"
   ]
  },
  {
   "cell_type": "code",
   "execution_count": 6,
   "metadata": {
    "collapsed": true
   },
   "outputs": [],
   "source": [
    "#define the right hand side equations\n",
    "#fill with the values given by the figure information\n",
    "def rhs(t, g):\n",
    "    #rate constants\n",
    "    ksCtrAP1 = 0.0083\n",
    "    ksCtrAP2 = 0.073\n",
    "    kdCtrA1 = 0.002\n",
    "    kdCtrA2 = 0.15\n",
    "    ksGcrA = 0.045\n",
    "    kdGcrA = 0.022\n",
    "    ksDnaA = 0.0165\n",
    "    kdDnaA = 0.007\n",
    "    ksFts = 0.063\n",
    "    kdFts = 0.035\n",
    "    kzringOpen = 0.8\n",
    "    kzringClosed1 = 0.0001\n",
    "    kzringClosed2 = 0.6\n",
    "    ksDivK = 0.0054\n",
    "    kdDivK = 0.002\n",
    "    kdDivKP = 0.002\n",
    "    ktransDivK = 0.5\n",
    "    ktransDivKP = 0.0295\n",
    "    ksI = 0.08\n",
    "    kdI = 0.04\n",
    "    ksCcrM = 0.072\n",
    "    kdCcrM = 0.07\n",
    "    kmcori = 0.4\n",
    "    kmctrA = 0.4\n",
    "    kmccrM = 0.4\n",
    "    kmfts = 0.4\n",
    "    kaIni = 0.01\n",
    "\n",
    "    kelong = 0.006\n",
    "   \n",
    "    \n",
    "    \n",
    "    #Binding constants\n",
    "    JiCtrACtrA = 0.4\n",
    "    JiDnaAGcrA = 0.5\n",
    "    JZringFts = 0.78\n",
    "    Jmfts = 0.95\n",
    "    ThetaCori = 0.0002\n",
    "    JaCtrACtrA = 0.45\n",
    "    JaDnaACtrA = 0.3\n",
    "    Jmcori = 0.95\n",
    "    ThetaCtrA = 0.2\n",
    "    JdCtrADivKP = 0.55\n",
    "    Jaopen = 0.01\n",
    "    JmctrA = 0.95\n",
    "    ThetaGcrA = 0.45\n",
    "    JiGcrACtrA = 0.2\n",
    "    Jaclosed = 0.1\n",
    "    JmccrM = 0.95\n",
    "    ThetaDnaA = 0.6\n",
    "    \n",
    "    #Gene positions on the chromosome\n",
    "    Pelong = 0.05\n",
    "    PccrM = 0.2\n",
    "    PctrA = 0.375\n",
    "    Pfts = 0.625\n",
    "    \n",
    "    f = np.zeros(18)\n",
    "    f[0]  = (ksCtrAP1 * JiCtrACtrA**2/(JiCtrACtrA**2 + g[0]**2)*g[4]  + ksCtrAP2*g[0]**2/(JaCtrACtrA**2 + g[0]**2))\\\n",
    "            *(g[6] - (kdCtrA1+kdCtrA2*g[9]**2/(JdCtrADivKP**2+g[9]**2))*g[0])\n",
    "    f[1]  = kzringOpen * (1 - g[1])/(Jaopen+1-g[1]) - (kzringClosed1+kzringClosed2*(g[12]/JZringFts)**4)\\\n",
    "            *(g[1]/(Jaclosed+g[1]))\n",
    "    f[2]  = ksCcrM * g[13] - kdCcrM*g[2]\n",
    "    f[3]  = -kmcori *g[2]**4/(Jmcori**4+g[2]**4)*g[3] #if statement\n",
    "    f[4]  = ksGcrA*JiGcrACtrA**2/(JiGcrACtrA**2+g[0]**2)*g[8]-kdGcrA*g[4]\n",
    "    f[5]  = ksDivK*g[0] + ktransDivKP*g[9]-ktransDivK*g[5]*(1-g[1])-kdDivK*g[5]\n",
    "    f[6]  = -kmctrA*g[2]**4/(JmctrA**4+g[2]**4)*g[6] #if statement\n",
    "    f[7]  = kaIni*(g[8]/ThetaDnaA)**4 *(g[4]/ThetaGcrA)**4\\\n",
    "           /(1+(g[8]/ThetaDnaA)**4+(g[4]/ThetaGcrA)**4+(g[0]/ThetaCtrA)**4+ g[3]/ThetaCori) #if statement\n",
    "    f[8]  = ksDnaA * (JiDnaAGcrA**2/(JiDnaAGcrA**2+g[4]**2)) *(g[0]**2/(JaDnaACtrA**2+g[0]**2))*(2-g[3])\\\n",
    "          -kdDnaA*g[8]\n",
    "    f[9]  = -ktransDivKP*g[9] + ktransDivK*g[5]*(1-g[1])-kdDivKP*g[5]\n",
    "    f[10] = -kmccrM*g[2]**4/(JmccrM**4+g[2]**4)*g[10] #if statement\n",
    "    f[11] = kelong*(g[11])**4/(g[11]**4 + Pelong**4)*g[16] #if statement define Count\n",
    "    f[12] = ksFts*g[0]*g[14] - kdFts*g[12]\n",
    "    f[13] = ksI*g[0]*g[10] - kdI*g[13]\n",
    "    f[14] = -kmfts*g[2]**4/(Jmfts**4 + g[2]**4)*g[14] #if statement\n",
    "    f[15] = kelong*g[11]**4/(g[11]**4+Pelong**4)*g[16]\n",
    "    f[16] = 0\n",
    "    f[17] = ksDivK*g[0] - kdDivK*g[17]\n",
    "    \n",
    "    return f"
   ]
  },
  {
   "cell_type": "code",
   "execution_count": 20,
   "metadata": {
    "collapsed": true
   },
   "outputs": [],
   "source": [
    "def doint():\n",
    "    intvode = ode(rhs).set_integrator('dop853', rtol=1.0e-4, atol=1.0e-5)\n",
    "    # Initial values at t=0 \n",
    "    g0 = [0.11,1.0,0.5,1.0,0.78,0.66,0.0,0.0,0.6,0.34,0.0,0.05,0.29,0.11,0.0,1.05,2.0, 1.0]\n",
    "    t0 = 0.0\n",
    "    \n",
    "    intvode.set_initial_value(g0, t0)\n",
    "    time =  100.0\n",
    "    # Interval at which to save the integration data\n",
    "    save_dt = 1.0e-3 \n",
    "    tm   = [t0]\n",
    "    g1  = [g0[0]]\n",
    "    g2  = [g0[1]]\n",
    "    g3  = [g0[2]]\n",
    "    g4  = [g0[3]]\n",
    "    g5  = [g0[4]]\n",
    "    g6  = [g0[5]]\n",
    "    g7  = [g0[6]]\n",
    "    g8  = [g0[7]]\n",
    "    g9  = [g0[8]]\n",
    "    g10  = [g0[9]]\n",
    "    g11  = [g0[10]]\n",
    "    g12  = [g0[11]]\n",
    "    g13  = [g0[12]]\n",
    "    g14  = [g0[13]]\n",
    "    g15  = [g0[14]]\n",
    "    g16  = [g0[15]]\n",
    "    g17 = [g0[16]]\n",
    "    g18 = [g0[17]]\n",
    "    \n",
    "    next_dt = save_dt\n",
    "    min_dt = 1.0e-3\n",
    "    # ierr = 0 (no error), \n",
    "    # ierr = 1 (integration reached time_year)\n",
    "    # ierr = -1 (other error)\n",
    "    ierr = 0 \n",
    "    while (intvode.successful()):\n",
    "        intvode.integrate(intvode.t + next_dt)\n",
    "        tm.append(intvode.t)\n",
    "        g1.append(intvode.y[0])\n",
    "        g2.append(intvode.y[1])\n",
    "        g3.append(intvode.y[2])\n",
    "        g4.append(intvode.y[3])\n",
    "        g5.append(intvode.y[4])\n",
    "        g6.append(intvode.y[5])\n",
    "        g7.append(intvode.y[6])\n",
    "        g8.append(intvode.y[7])\n",
    "        g9.append(intvode.y[8])\n",
    "        g10.append(intvode.y[9])\n",
    "        g11.append(intvode.y[10])\n",
    "        g12.append(intvode.y[11])\n",
    "        g13.append(intvode.y[12])\n",
    "        g14.append(intvode.y[13])\n",
    "        g15.append(intvode.y[14])\n",
    "        g16.append(intvode.y[15])\n",
    "        g17.append(intvode.y[16])\n",
    "        g18.append(intvode.y[17])\n",
    "        \n",
    "        #make it near 0\n",
    "        if (abs (g8[-1] - 0.05) <= 1.e-6):\n",
    "            intvode.y[7] = 0\n",
    "            intvode.y[16] = g17[-1]*2\n",
    "            intvode.y[11] = g12[-1] + g17[-1]*0.05\n",
    "            intvode.y[15] = g16[-1] + g17[-1]*0.05\n",
    "            intvode.y[3] = 1.0\n",
    "            \n",
    "            \n",
    "        if (abs(g12[-1] -0.2) <= 1.e-6):\n",
    "            intvode.y[10] = g11[-1] +1.0\n",
    "        \n",
    "        if(abs(g12[-1]-0.375) <=1.e-6):\n",
    "            intvode.y[6] = g7[-1] +1.0\n",
    "        \n",
    "        if(abs(g12[-1] - 0.625)<=1.e-6):\n",
    "            intvode.y[14] = g15[-1]+1.0\n",
    "        \n",
    "        if(abs(g12[-1]+1-g17[-1]) <= 1.e-6):\n",
    "            intvode.y[11] = 0.0\n",
    "        \n",
    "        if(abs(g2[-1]-0.9)<=1.e-6):\n",
    "            intvode.y[15]= g16[-1]/2.0\n",
    "            intvode.y[16]= g17[-1]/2.0\n",
    "            \n",
    "        \n",
    "        if intvode.t > time:\n",
    "            break\n",
    "            \n",
    "    tm = np.array(tm)\n",
    "    g1 = np.array(g1)\n",
    "    g2 = np.array(g2)\n",
    "    g3 = np.array(g3)\n",
    "    g4 = np.array(g4)\n",
    "    g5 = np.array(g5)\n",
    "    g6 = np.array(g6)\n",
    "    g7 = np.array(g7)\n",
    "    g8 = np.array(g8)\n",
    "    g9 = np.array(g9)\n",
    "    g10 = np.array(g10)\n",
    "    g11 = np.array(g11)\n",
    "    g12 = np.array(g12)\n",
    "    g13 = np.array(g13)\n",
    "    g14 = np.array(g14)\n",
    "    g15 = np.array(g15)\n",
    "    g16 = np.array(g16)\n",
    "    g17 = np.array(g17)\n",
    "    g18 = np.array(g18)\n",
    "    \n",
    "    \n",
    "    if intvode.successful():\n",
    "        ierr = 0\n",
    "    else:\n",
    "        ierr = -1\n",
    "    return tm,g1,g2,g3,g4,g5,g6,g7,g8,g9,g10,g11,g12,g13,g14,g15,g16,g17,g18,ierr"
   ]
  },
  {
   "cell_type": "code",
   "execution_count": 22,
   "metadata": {
    "collapsed": false
   },
   "outputs": [],
   "source": [
    "t,g1,g2,g3,g4,g5,g6,g7,g8,g9,g10,g11,g12,g13,g14,g15,g16,g17,g18,err = doint() #let's solve the system"
   ]
  },
  {
   "cell_type": "code",
   "execution_count": 23,
   "metadata": {
    "collapsed": false
   },
   "outputs": [
    {
     "name": "stdout",
     "output_type": "stream",
     "text": [
      "0\n"
     ]
    }
   ],
   "source": [
    "print(err)"
   ]
  },
  {
   "cell_type": "code",
   "execution_count": 24,
   "metadata": {
    "collapsed": false
   },
   "outputs": [
    {
     "data": {
      "text/plain": [
       "<matplotlib.text.Text at 0x7f0386e40898>"
      ]
     },
     "execution_count": 24,
     "metadata": {},
     "output_type": "execute_result"
    },
    {
     "data": {
      "image/png": "[encoded data removed]",
      "text/plain": [
       "<matplotlib.figure.Figure at 0x7f03873105c0>"
      ]
     },
     "metadata": {},
     "output_type": "display_data"
    }
   ],
   "source": [
    "plt.figure(1)\n",
    "plt.plot(t, g8, label = 'Ini')\n",
    "plt.plot(t, g12, label = 'Elong')\n",
    "plt.plot(t, g16, label ='DNA')\n",
    "\n",
    "plt.legend()\n",
    "\n",
    "plt.xlabel('Time')"
   ]
  },
  {
   "cell_type": "code",
   "execution_count": 25,
   "metadata": {
    "collapsed": false
   },
   "outputs": [
    {
     "data": {
      "text/plain": [
       "<matplotlib.text.Text at 0x7f038374acc0>"
      ]
     },
     "execution_count": 25,
     "metadata": {},
     "output_type": "execute_result"
    },
    {
     "data": {
      "image/png": "[encoded data removed]",
      "text/plain": [
       "<matplotlib.figure.Figure at 0x7f0387310588>"
      ]
     },
     "metadata": {},
     "output_type": "display_data"
    }
   ],
   "source": [
    "plt.figure(2)\n",
    "plt.plot(t, g4, label = 'hCori')\n",
    "plt.plot(t, g11, label = 'hccrM')\n",
    "plt.plot(t, g7, label ='hctrA')\n",
    "plt.plot(t, g15,label='hfts')\n",
    "\n",
    "plt.legend()\n",
    "\n",
    "plt.xlabel('Time')\n"
   ]
  },
  {
   "cell_type": "code",
   "execution_count": null,
   "metadata": {
    "collapsed": true
   },
   "outputs": [],
   "source": []
  }
 ],
 "metadata": {
  "kernelspec": {
   "display_name": "Python 3",
   "language": "python",
   "name": "python3"
  },
  "language_info": {
   "codemirror_mode": {
    "name": "ipython",
    "version": 3
   },
   "file_extension": ".py",
   "mimetype": "text/x-python",
   "name": "python",
   "nbconvert_exporter": "python",
   "pygments_lexer": "ipython3",
   "version": "3.5.2"
  }
 },
 "nbformat": 4,
 "nbformat_minor": 2
}
