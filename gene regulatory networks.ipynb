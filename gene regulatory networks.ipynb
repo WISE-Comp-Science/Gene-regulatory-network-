{
 "cells": [
  {
   "cell_type": "markdown",
   "metadata": {},
   "source": [
    "# Modelling gene regulatory networks\n",
    "\n",
    "For this project we will be working towards understanding a [scientific paper](http://journals.plos.org/ploscompbiol/article?id=10.1371/journal.pcbi.0040009) and reproduce their calculations. \n",
    "\n",
    "We will start reading parts of the paper and here I'm giving you some questions that point out some of the key ideas.\n",
    "\n",
    "### Abstract\n",
    "\n",
    "+ What are they proposing?\n",
    "+ Where can be applied the proposed mechanism?\n",
    "\n",
    "### Author Summary \n",
    "+ What is the cell cycle? \n",
    "+ What controls the timing and spatial organization of the cell cycle?\n",
    "+ What are the most important regulators in Caulobacter?\n",
    "\n",
    "Now, let's move for a moment to **Figure 1.** Read the description and identify the three cell cycle phases in the diagram. \n",
    "\n",
    "### KEGG PATHWAY Data\n",
    "There are databases online which provide information of molecular interactions. Go to [KEGG](http://www.kegg.jp/kegg/pathway.html) and look at the classification of the data (Metabolism, Genetic Information Processing ...etc)\n",
    "\n",
    "+ Which of the topics/subtopics do you find more interesting? Why?   \n",
    "\n",
    "We will now search the pathway that we will be studying. On top of the website, in the box  bellow \"Select prefix\" make sure it says map and then on the box next to it write: caulobacter crescentus and click Go.  \n",
    "This search will give you the entries that match your searching criteria. Click on the link below the Entry column (map0...). \n",
    "Click again on the link (map0...) next to Pathway map. You should now be seeing an image\n",
    "Click on Pathway menu\n",
    "Click 04112. Now you should be seeing the image but with some green color. \n",
    "\n",
    "+ How similar is it to Figure 1 of the paper? What about Figure 2? What are the differences?\n",
    "\n",
    "Now, click on the Help button and identify some of the objects, interactions and relations you see in the map. \n",
    "\n",
    "Let's take a closer look to some of this components. Starting with the **DnaA** green box \n",
    "\n",
    "+ What other objects directly regulate it? Mention at least 3 and how they are related (for example, GcrA inhibits it) If you click on the box, what information do you see? Feel free to use the Help button. What is the definition?  \n",
    "\n",
    "\n",
    "Go back to the map and do the same for **GcrA**, **CtrA**, **CcrM** and **DivK**\n",
    "\n"
   ]
  },
  {
   "cell_type": "code",
   "execution_count": null,
   "metadata": {
    "collapsed": true
   },
   "outputs": [],
   "source": []
  }
 ],
 "metadata": {
  "kernelspec": {
   "display_name": "Python 2",
   "language": "python",
   "name": "python2"
  },
  "language_info": {
   "codemirror_mode": {
    "name": "ipython",
    "version": 2
   },
   "file_extension": ".py",
   "mimetype": "text/x-python",
   "name": "python",
   "nbconvert_exporter": "python",
   "pygments_lexer": "ipython2",
   "version": "2.7.13"
  }
 },
 "nbformat": 4,
 "nbformat_minor": 2
}
